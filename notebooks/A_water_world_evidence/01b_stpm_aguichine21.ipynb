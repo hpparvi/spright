{
 "cells": [
  {
   "cell_type": "markdown",
   "id": "64ad103e",
   "metadata": {},
   "source": [
    "# Evidence for water worlds around M dwarfs\n",
    "## Water-world means following Aguichine et al. (2021)\n",
    "\n",
    "**Author: [Hannu Parviainen](mailto:hpparvi@gmail.com)** </br>\n",
    "**Last edited: 25. October 2023**\n",
    "\n",
    "Here we calculate the Bayesian evidences for our three water-world-population hypotheses using the Aguichine et al. (2021) water-rich-planet radius-density models to represent the water-world population density mean function.\n",
    "\n",
    "The main difference with the Zeng et al. (2019) case is that we set an uniform prior, $U(0.1,1.0)$, on the water-world water fraction. This is because the Aguichine et al. (2021) models work slightly differently than the Zeng et al. (2019) models, and we don't need to fear that the water-rich planet population would be degenerate with rocky world population."
   ]
  },
  {
   "cell_type": "code",
   "execution_count": 1,
   "id": "13a5834c",
   "metadata": {},
   "outputs": [
    {
     "name": "stdout",
     "output_type": "stream",
     "text": [
      "%pylab is deprecated, use %matplotlib inline and import the required libraries.\n",
      "Populating the interactive namespace from numpy and matplotlib\n"
     ]
    }
   ],
   "source": [
    "%pylab inline"
   ]
  },
  {
   "cell_type": "code",
   "execution_count": 2,
   "id": "a737c44a",
   "metadata": {},
   "outputs": [],
   "source": [
    "from dynesty import NestedSampler\n",
    "from uncertainties import ufloat\n",
    "\n",
    "from spright import RMEstimator\n",
    "from spright.io import read_stpm\n",
    "from spright.model import lnlikelihood_sample\n",
    "\n",
    "%run common.py"
   ]
  },
  {
   "cell_type": "code",
   "execution_count": 3,
   "id": "fd7c9cbe",
   "metadata": {},
   "outputs": [],
   "source": [
    "names, radii, masses = read_stpm('../../spright/data/stpm_230202.csv')\n",
    "rme = RMEstimator(nsamples=200, names=names, radii=radii, masses=masses, water='a21')\n",
    "lpf = rme.lpf\n",
    "rdm = lpf.rdm"
   ]
  },
  {
   "cell_type": "code",
   "execution_count": 5,
   "id": "b40d361b-1753-4e68-bf31-f9dd16395b6a",
   "metadata": {},
   "outputs": [],
   "source": [
    "def transform_h0(u):\n",
    "    return transform_base(u, 0.0, 0.001, water_model='a21')\n",
    "\n",
    "def transform_h1(u):\n",
    "    return transform_base(u, 0.15, 0.5, water_model='a21')\n",
    "\n",
    "def transform_h2(u):\n",
    "    return transform_base(u, 0.5, 1.0, water_model='a21')"
   ]
  },
  {
   "cell_type": "code",
   "execution_count": 6,
   "id": "0a723ed6-9f77-4777-86cb-7e3b3e1fb8a0",
   "metadata": {},
   "outputs": [],
   "source": [
    "def lnlikelihood(pv):\n",
    "    if is_puffy_population_ok(pv, lpf.rdm):\n",
    "        lnl = lnlikelihood_sample(pv, lpf.density_samples, lpf.radius_samples,\n",
    "                                  rdm._rr0, rdm._rdr, rdm._rx0, rdm._rdx, rdm.drocky, \n",
    "                                  rdm._wr0, rdm._wdr, rdm._wx0, rdm._wdx, rdm.dwater)\n",
    "        return lnl if isfinite(lnl) else -1e6\n",
    "    else:\n",
    "        return -1e6"
   ]
  },
  {
   "cell_type": "code",
   "execution_count": 7,
   "id": "ffa889b9",
   "metadata": {},
   "outputs": [],
   "source": [
    "s0 = NestedSampler(lnlikelihood, transform_h0, 11, nlive=1000)\n",
    "s1 = NestedSampler(lnlikelihood, transform_h1, 11, nlive=1000)\n",
    "s2 = NestedSampler(lnlikelihood, transform_h2, 11, nlive=1000)"
   ]
  },
  {
   "cell_type": "code",
   "execution_count": 8,
   "id": "18cbfeb5-7675-47ad-88e7-0e39c44429ae",
   "metadata": {},
   "outputs": [
    {
     "name": "stderr",
     "output_type": "stream",
     "text": [
      "13447it [02:58, 75.25it/s, +1000 | bound: 68 | nc: 1 | ncall: 346744 | eff(%):  4.179 | loglstar:   -inf < -75.278 <    inf | logz: -89.151 +/-  0.146 | dlogz:  0.001 >  1.009]\n"
     ]
    }
   ],
   "source": [
    "s0.run_nested()"
   ]
  },
  {
   "cell_type": "code",
   "execution_count": 9,
   "id": "53775cd6-75b5-495c-9917-34cf4ed1b2ca",
   "metadata": {},
   "outputs": [
    {
     "name": "stderr",
     "output_type": "stream",
     "text": [
      "13876it [02:42, 85.15it/s, +1000 | bound: 70 | nc: 1 | ncall: 359191 | eff(%):  4.153 | loglstar:   -inf < -78.520 <    inf | logz: -92.886 +/-  0.135 | dlogz:  0.002 >  1.009]\n"
     ]
    }
   ],
   "source": [
    "s1.run_nested()"
   ]
  },
  {
   "cell_type": "code",
   "execution_count": 10,
   "id": "45d59f29-4a88-4a8d-9e7c-3acbbea93141",
   "metadata": {},
   "outputs": [
    {
     "name": "stderr",
     "output_type": "stream",
     "text": [
      "15569it [03:14, 80.03it/s, +1000 | bound: 82 | nc: 1 | ncall: 410285 | eff(%):  4.048 | loglstar:   -inf < -77.391 <    inf | logz: -93.406 +/-  0.145 | dlogz:  0.002 >  1.009]\n"
     ]
    }
   ],
   "source": [
    "s2.run_nested()"
   ]
  },
  {
   "cell_type": "code",
   "execution_count": 11,
   "id": "b332a1ff-b0e5-4ec1-98ba-9d2814a3973e",
   "metadata": {},
   "outputs": [],
   "source": [
    "z0 = ufloat(s0.results.logz[-1], s0.results.logzerr[-1])\n",
    "z1 = ufloat(s1.results.logz[-1], s1.results.logzerr[-1])\n",
    "z2 = ufloat(s2.results.logz[-1], s2.results.logzerr[-1])"
   ]
  },
  {
   "cell_type": "code",
   "execution_count": 13,
   "id": "a9b3e9a3-ec79-41c6-8005-61c46f4a5314",
   "metadata": {},
   "outputs": [
    {
     "name": "stdout",
     "output_type": "stream",
     "text": [
      "-7.5 & 0.6 & -8.5 & 0.7 & -1.0 & 0.6 & "
     ]
    }
   ],
   "source": [
    "for v in (2*(z1 - z0), 2*(z2 - z0), 2*(z2 - z1)):\n",
    "    print(str(v).replace('+/-', ' & '), end=' & ')"
   ]
  },
  {
   "cell_type": "code",
   "execution_count": 12,
   "id": "28ecdaf3-e8b0-46df-a56c-30589a3a2479",
   "metadata": {},
   "outputs": [
    {
     "name": "stdout",
     "output_type": "stream",
     "text": [
      "-7.5+/-0.6 -8.5+/-0.7 -1.0+/-0.6\n"
     ]
    }
   ],
   "source": [
    "print(2*(z1 - z0), 2*(z2 - z0), 2*(z2 - z1))"
   ]
  },
  {
   "cell_type": "markdown",
   "id": "213f50bf-6207-4885-a8d2-7029f33def58",
   "metadata": {},
   "source": [
    "---\n",
    "\n",
    "<center>\n",
    "©2023 Hannu Parviainen\n",
    "</center>"
   ]
  }
 ],
 "metadata": {
  "kernelspec": {
   "display_name": "Python 3 (ipykernel)",
   "language": "python",
   "name": "python3"
  },
  "language_info": {
   "codemirror_mode": {
    "name": "ipython",
    "version": 3
   },
   "file_extension": ".py",
   "mimetype": "text/x-python",
   "name": "python",
   "nbconvert_exporter": "python",
   "pygments_lexer": "ipython3",
   "version": "3.11.5"
  }
 },
 "nbformat": 4,
 "nbformat_minor": 5
}

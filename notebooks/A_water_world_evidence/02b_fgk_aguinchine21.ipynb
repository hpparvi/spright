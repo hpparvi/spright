{
 "cells": [
  {
   "cell_type": "markdown",
   "id": "5dbf670b",
   "metadata": {},
   "source": [
    "# Evidence for water worlds around FGK stars\n",
    "## Water-world means following Aguichine et al. (2021)\n",
    "\n",
    "**Author: [Hannu Parviainen](mailto:hpparvi@gmail.com)** </br>\n",
    "**Last edited: 25. October 2023**\n",
    "\n",
    "Here we calculate the Bayesian evidences for our three water-world-population hypotheses using the Aguichine et al. (2021) water-rich-planet radius-density models to represent the water-world population density mean function.\n",
    "\n",
    "The main difference with the Zeng et al. (2019) case is that we set an uniform prior, $U(0.1,1.0)$, on the water-world water fraction. This is because the Aguichine et al. (2021) models work slightly differently than the Zeng et al. (2019) models, and we don't need to fear that the water-rich planet population would be degenerate with rocky world population."
   ]
  },
  {
   "cell_type": "code",
   "execution_count": 1,
   "id": "13a5834c",
   "metadata": {},
   "outputs": [
    {
     "name": "stdout",
     "output_type": "stream",
     "text": [
      "%pylab is deprecated, use %matplotlib inline and import the required libraries.\n",
      "Populating the interactive namespace from numpy and matplotlib\n"
     ]
    }
   ],
   "source": [
    "%pylab inline"
   ]
  },
  {
   "cell_type": "code",
   "execution_count": 2,
   "id": "a737c44a",
   "metadata": {},
   "outputs": [],
   "source": [
    "from dynesty import NestedSampler\n",
    "from uncertainties import ufloat\n",
    "\n",
    "from spright import RMEstimator\n",
    "from spright.io import read_tepcat\n",
    "from spright.model import lnlikelihood_sample\n",
    "\n",
    "%run common.py"
   ]
  },
  {
   "cell_type": "code",
   "execution_count": 3,
   "id": "fd7c9cbe",
   "metadata": {},
   "outputs": [],
   "source": [
    "names, radii, masses = read_tepcat('../../spright/data/TEPCat_FGK_20230522.csv')\n",
    "rme = RMEstimator(nsamples=200, names=names, radii=radii, masses=masses, water='a21')\n",
    "lpf = rme.lpf\n",
    "rdm = lpf.rdm"
   ]
  },
  {
   "cell_type": "code",
   "execution_count": 5,
   "id": "96ed5bd0-b014-41a6-9d56-7a7c3795b9a8",
   "metadata": {},
   "outputs": [],
   "source": [
    "def transform_h0(u):\n",
    "    return transform_base(u, 0.0, 0.001, water_model='a21')\n",
    "\n",
    "def transform_h1(u):\n",
    "    return transform_base(u, 0.15, 0.5, water_model='a21')\n",
    "\n",
    "def transform_h2(u):\n",
    "    return transform_base(u, 0.5, 1.0, water_model='a21')"
   ]
  },
  {
   "cell_type": "code",
   "execution_count": 6,
   "id": "e5a446b6-7682-4f7d-a90e-d3be14889631",
   "metadata": {},
   "outputs": [],
   "source": [
    "def lnlikelihood(pv):\n",
    "    if is_puffy_population_ok(pv, lpf.rdm):\n",
    "        lnl = lnlikelihood_sample(pv, lpf.density_samples, lpf.radius_samples,\n",
    "                                  rdm._rr0, rdm._rdr, rdm._rx0, rdm._rdx, rdm.drocky, \n",
    "                                  rdm._wr0, rdm._wdr, rdm._wx0, rdm._wdx, rdm.dwater)\n",
    "        return lnl if isfinite(lnl) else -1e6\n",
    "    else:\n",
    "        return -1e6"
   ]
  },
  {
   "cell_type": "code",
   "execution_count": 7,
   "id": "ffa889b9",
   "metadata": {},
   "outputs": [],
   "source": [
    "s0 = NestedSampler(lnlikelihood, transform_h0, 11, nlive=1000)\n",
    "s1 = NestedSampler(lnlikelihood, transform_h1, 11, nlive=1000)\n",
    "s2 = NestedSampler(lnlikelihood, transform_h2, 11, nlive=1000)"
   ]
  },
  {
   "cell_type": "code",
   "execution_count": 8,
   "id": "9dac3e1b-1b07-4048-9796-f1559c48f3a1",
   "metadata": {},
   "outputs": [
    {
     "name": "stderr",
     "output_type": "stream",
     "text": [
      "12617it [02:47, 75.23it/s, +1000 | bound: 61 | nc: 1 | ncall: 318597 | eff(%):  4.288 | loglstar:   -inf < -264.547 <    inf | logz: -277.465 +/-  0.131 | dlogz:  0.001 >  1.009]\n"
     ]
    }
   ],
   "source": [
    "s0.run_nested()"
   ]
  },
  {
   "cell_type": "code",
   "execution_count": 9,
   "id": "e1c61c00-a0c0-4076-b377-141d4fe9093a",
   "metadata": {},
   "outputs": [
    {
     "name": "stderr",
     "output_type": "stream",
     "text": [
      "15310it [03:49, 66.72it/s, +1000 | bound: 80 | nc: 1 | ncall: 403302 | eff(%):  4.054 | loglstar:   -inf < -262.204 <    inf | logz: -277.976 +/-  0.154 | dlogz:  0.002 >  1.009]\n"
     ]
    }
   ],
   "source": [
    "s1.run_nested()"
   ]
  },
  {
   "cell_type": "code",
   "execution_count": 10,
   "id": "5ab0753e-67ff-4eb8-8624-6f886ea132d2",
   "metadata": {},
   "outputs": [
    {
     "name": "stderr",
     "output_type": "stream",
     "text": [
      "14609it [04:16, 56.94it/s, +1000 | bound: 75 | nc: 1 | ncall: 379790 | eff(%):  4.121 | loglstar:   -inf < -263.243 <    inf | logz: -278.210 +/-  0.142 | dlogz:  0.001 >  1.009]\n"
     ]
    }
   ],
   "source": [
    "s2.run_nested()"
   ]
  },
  {
   "cell_type": "code",
   "execution_count": 11,
   "id": "07717187-ecc0-4e25-896e-a63f076bc082",
   "metadata": {},
   "outputs": [],
   "source": [
    "z0 = ufloat(s0.results.logz[-1], s0.results.logzerr[-1])\n",
    "z1 = ufloat(s1.results.logz[-1], s1.results.logzerr[-1])\n",
    "z2 = ufloat(s2.results.logz[-1], s2.results.logzerr[-1])"
   ]
  },
  {
   "cell_type": "code",
   "execution_count": 19,
   "id": "4ebbda12-407b-46e5-bee9-835d8ddafd0b",
   "metadata": {},
   "outputs": [
    {
     "name": "stdout",
     "output_type": "stream",
     "text": [
      "-1.0 & 0.7 & -1.5 & 0.7 & -0.5 & 0.7 & "
     ]
    }
   ],
   "source": [
    "for v in (2*(z1 - z0), 2*(z2 - z0), 2*(z2 - z1)):\n",
    "    print(str(v).replace('+/-', ' & '), end=' & ')"
   ]
  },
  {
   "cell_type": "code",
   "execution_count": 12,
   "id": "8baa1600-a75c-469c-9e6a-09a23d28f241",
   "metadata": {},
   "outputs": [
    {
     "name": "stdout",
     "output_type": "stream",
     "text": [
      "-1.0+/-0.7 -1.5+/-0.7 -0.5+/-0.7\n"
     ]
    }
   ],
   "source": [
    "print(2*(z1 - z0), 2*(z2 - z0), 2*(z2 - z1))"
   ]
  },
  {
   "cell_type": "markdown",
   "id": "2c5564c1-14c2-4766-a1df-c0912ce671de",
   "metadata": {},
   "source": [
    "---\n",
    "\n",
    "<center>\n",
    "©2023 Hannu Parviainen\n",
    "</center>"
   ]
  }
 ],
 "metadata": {
  "kernelspec": {
   "display_name": "Python 3 (ipykernel)",
   "language": "python",
   "name": "python3"
  },
  "language_info": {
   "codemirror_mode": {
    "name": "ipython",
    "version": 3
   },
   "file_extension": ".py",
   "mimetype": "text/x-python",
   "name": "python",
   "nbconvert_exporter": "python",
   "pygments_lexer": "ipython3",
   "version": "3.11.5"
  }
 },
 "nbformat": 4,
 "nbformat_minor": 5
}

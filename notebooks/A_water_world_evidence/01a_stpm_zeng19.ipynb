{
 "cells": [
  {
   "cell_type": "markdown",
   "id": "64ad103e",
   "metadata": {},
   "source": [
    "# Evidence for water worlds around M dwarfs\n",
    "## Water-world means following Zeng et al. (2019)\n",
    "\n",
    "**Author: [Hannu Parviainen](mailto:hpparvi@gmail.com)** </br>\n",
    "**Last edited: 25. October 2023**\n",
    "\n",
    "### Introduction\n",
    "\n",
    "Here we study whether our empirical radius and mass estimates support the hypothesis that water worlds exist as a separate individual population between the rocky planets and sub-Neptunes. We do this by calculating Bayesian evidences for three hypotheses stating that the radius and mass distribution for the known planets should be modelled either as a mixture of H$_0$) rocky planets and sub-Neptunes, or H$_1$) rocky planets, a weak mixed population of water-rich planets, and sub-Neptunes, or H$_2$)  rocky planets, a strong population of water-rich planets, and sub-Neptunes, and then calculating the Bayes factor between the hypotheses.\n",
    "\n",
    "This first notebook uses the theoretical radius-density models by Zeng et al. (2019) to represent the density mean function for water-rich planets. A version of the analysis using the Aguichine et al. (2021) models can be found from the `01b_stpm_aguinchine.ipynb` notebook.\n",
    "\n",
    "We calculate the Bayesian evidence using nested sampling with the dynasty package."
   ]
  },
  {
   "cell_type": "code",
   "execution_count": 1,
   "id": "13a5834c",
   "metadata": {},
   "outputs": [
    {
     "name": "stdout",
     "output_type": "stream",
     "text": [
      "%pylab is deprecated, use %matplotlib inline and import the required libraries.\n",
      "Populating the interactive namespace from numpy and matplotlib\n"
     ]
    }
   ],
   "source": [
    "%pylab inline"
   ]
  },
  {
   "cell_type": "code",
   "execution_count": 2,
   "id": "a737c44a",
   "metadata": {},
   "outputs": [],
   "source": [
    "from dynesty import NestedSampler\n",
    "from uncertainties import ufloat\n",
    "\n",
    "from spright import RMEstimator\n",
    "from spright.io import read_stpm\n",
    "from spright.model import lnlikelihood_sample\n",
    "\n",
    "%run common.py"
   ]
  },
  {
   "cell_type": "markdown",
   "id": "67fcc088",
   "metadata": {
    "jp-MarkdownHeadingCollapsed": true
   },
   "source": [
    "### Set up the hypotheses\n",
    "\n",
    "We set up three competing hypotheses:\n",
    "\n",
    " - H$_0$: water-rich planets create a significant population between rocky planets and sub-Neptunes,\n",
    " - H$_1$: water-rich planets exist as a mixed population between rocky planets and sub-Neptunes\n",
    " - H$_2$: water-rich planets do not exist as a distinct composition population.\n",
    "\n",
    "These two hypotheses can be presented by different priors on the RDM model water-world population width, $w_\\mathrm{w}$. For H$_0$, we remove the water-world population by forcing $w_\\mathrm{w}\\approx 0$. We encode H$_1$ as $0.15 < w_\\mathrm{w} < 0.5$, that is, the water-world population exists but is always mixed with rocky planets and sub-Neputnes. Finally, we encode H$_2$ as $w_\\mathrm{w} > 0.5$, that is, the water-world population weight reaches unity at least at one point in the planet radius space. The priors for all the other parameters are the same for the two hypotheses.\n",
    "\n",
    "We can set these priors in dynesty by creating two different prior transforms that transform the unit cube sampled by dynesty into the model parameter space. "
   ]
  },
  {
   "cell_type": "code",
   "execution_count": null,
   "id": "1b6dc66b-3d9c-4b76-8ec3-6775ff392e44",
   "metadata": {},
   "outputs": [],
   "source": [
    "def transform_h0(u):\n",
    "    return transform_base(u, 0.0, 0.001, water_model='z19')\n",
    "\n",
    "def transform_h1(u):\n",
    "    return transform_base(u, 0.15, 0.5, water_model='z19')\n",
    "\n",
    "def transform_h2(u):\n",
    "    return transform_base(u, 0.5, 1.0, water_model='z19')"
   ]
  },
  {
   "cell_type": "markdown",
   "id": "71388963-6743-442c-b0ab-6b93098d786b",
   "metadata": {},
   "source": [
    "### Initialise the log posterior function"
   ]
  },
  {
   "cell_type": "code",
   "execution_count": 5,
   "id": "fd7c9cbe",
   "metadata": {},
   "outputs": [],
   "source": [
    "names, radii, masses = read_stpm('../../spright/data/stpm_230202.csv')\n",
    "rme = RMEstimator(nsamples=200, names=names, radii=radii, masses=masses)\n",
    "lpf = rme.lpf\n",
    "rdm = lpf.rdm"
   ]
  },
  {
   "cell_type": "code",
   "execution_count": 8,
   "id": "0a723ed6-9f77-4777-86cb-7e3b3e1fb8a0",
   "metadata": {},
   "outputs": [],
   "source": [
    "def lnlikelihood(pv):\n",
    "    if is_puffy_population_ok(pv, lpf.rdm):\n",
    "        lnl = lnlikelihood_sample(pv, lpf.density_samples, lpf.radius_samples,\n",
    "                                  rdm._rr0, rdm._rdr, rdm._rx0, rdm._rdx, rdm.drocky, \n",
    "                                  rdm._wr0, rdm._wdr, rdm._wx0, rdm._wdx, rdm.dwater)\n",
    "        return lnl if isfinite(lnl) else -1e6\n",
    "    else:\n",
    "        return -1e6"
   ]
  },
  {
   "cell_type": "markdown",
   "id": "e2406fd4-b08b-44e1-ad0c-08e069128209",
   "metadata": {},
   "source": [
    "### Initialise the Dynesty samplers"
   ]
  },
  {
   "cell_type": "code",
   "execution_count": 9,
   "id": "ffa889b9",
   "metadata": {},
   "outputs": [],
   "source": [
    "s0 = NestedSampler(lnlikelihood, transform_h0, 11, nlive=1000)\n",
    "s1 = NestedSampler(lnlikelihood, transform_h1, 11, nlive=1000)\n",
    "s2 = NestedSampler(lnlikelihood, transform_h2, 11, nlive=1000)"
   ]
  },
  {
   "cell_type": "markdown",
   "id": "e54efcb0-d80d-46b9-a1b4-2935bb381064",
   "metadata": {},
   "source": [
    "### Run the samplers and print the evidences"
   ]
  },
  {
   "cell_type": "code",
   "execution_count": 10,
   "id": "53775cd6-75b5-495c-9917-34cf4ed1b2ca",
   "metadata": {},
   "outputs": [
    {
     "name": "stderr",
     "output_type": "stream",
     "text": [
      "13643it [02:50, 79.86it/s, +1000 | bound: 69 | nc: 1 | ncall: 352545 | eff(%):  4.165 | loglstar:   -inf < -75.441 <    inf | logz: -89.470 +/-  0.153 | dlogz:  0.001 >  1.009]\n"
     ]
    }
   ],
   "source": [
    "s0.run_nested()"
   ]
  },
  {
   "cell_type": "code",
   "execution_count": 11,
   "id": "45d59f29-4a88-4a8d-9e7c-3acbbea93141",
   "metadata": {},
   "outputs": [
    {
     "name": "stderr",
     "output_type": "stream",
     "text": [
      "12328it [03:06, 66.13it/s, +1000 | bound: 60 | nc: 1 | ncall: 310686 | eff(%):  4.304 | loglstar:   -inf < -77.078 <    inf | logz: -89.780 +/-  0.143 | dlogz:  0.001 >  1.009]\n"
     ]
    }
   ],
   "source": [
    "s1.run_nested()"
   ]
  },
  {
   "cell_type": "code",
   "execution_count": 12,
   "id": "b5a32e9c-d462-4292-a681-c9436bbeae88",
   "metadata": {},
   "outputs": [
    {
     "name": "stderr",
     "output_type": "stream",
     "text": [
      "13659it [03:33, 63.91it/s, +1000 | bound: 69 | nc: 1 | ncall: 351279 | eff(%):  4.185 | loglstar:   -inf < -77.169 <    inf | logz: -91.184 +/-  0.157 | dlogz:  0.001 >  1.009]\n"
     ]
    }
   ],
   "source": [
    "s2.run_nested()"
   ]
  },
  {
   "cell_type": "code",
   "execution_count": 13,
   "id": "b332a1ff-b0e5-4ec1-98ba-9d2814a3973e",
   "metadata": {},
   "outputs": [],
   "source": [
    "z0 = ufloat(s0.results.logz[-1], s0.results.logzerr[-1])\n",
    "z1 = ufloat(s1.results.logz[-1], s1.results.logzerr[-1])\n",
    "z2 = ufloat(s2.results.logz[-1], s2.results.logzerr[-1])"
   ]
  },
  {
   "cell_type": "code",
   "execution_count": 18,
   "id": "93fb2a42-3b9f-4696-9e60-64b6d5e6b46f",
   "metadata": {},
   "outputs": [
    {
     "name": "stdout",
     "output_type": "stream",
     "text": [
      "-0.6+/-0.7 -3.4+/-0.7 -2.8+/-0.7\n"
     ]
    }
   ],
   "source": [
    "print(2*(z1 - z0), 2*(z2 - z0), 2*(z2 - z1))"
   ]
  },
  {
   "cell_type": "markdown",
   "id": "213f50bf-6207-4885-a8d2-7029f33def58",
   "metadata": {},
   "source": [
    "---\n",
    "\n",
    "<center>\n",
    "©2023 Hannu Parviainen\n",
    "</center>"
   ]
  }
 ],
 "metadata": {
  "kernelspec": {
   "display_name": "Python 3 (ipykernel)",
   "language": "python",
   "name": "python3"
  },
  "language_info": {
   "codemirror_mode": {
    "name": "ipython",
    "version": 3
   },
   "file_extension": ".py",
   "mimetype": "text/x-python",
   "name": "python",
   "nbconvert_exporter": "python",
   "pygments_lexer": "ipython3",
   "version": "3.11.5"
  }
 },
 "nbformat": 4,
 "nbformat_minor": 5
}

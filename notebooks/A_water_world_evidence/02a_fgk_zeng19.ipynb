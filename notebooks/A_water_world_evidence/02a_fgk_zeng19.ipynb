{
 "cells": [
  {
   "cell_type": "markdown",
   "id": "5dbf670b",
   "metadata": {},
   "source": [
    "# Evidence for water worlds around FGK stars\n",
    "## Water-world means following Zeng et al. (2019)\n",
    "\n",
    "**Author: [Hannu Parviainen](mailto:hpparvi@gmail.com)** </br>\n",
    "**Last edited: 25. October 2023**\n",
    "\n",
    "This notebook repeats the analysis of the 01a_stmp_zeng19 notebook, but for the TEPCat catalogue of small planets around FGK stars. Read the previous notebook for details."
   ]
  },
  {
   "cell_type": "code",
   "execution_count": 1,
   "id": "13a5834c",
   "metadata": {},
   "outputs": [
    {
     "name": "stdout",
     "output_type": "stream",
     "text": [
      "%pylab is deprecated, use %matplotlib inline and import the required libraries.\n",
      "Populating the interactive namespace from numpy and matplotlib\n"
     ]
    }
   ],
   "source": [
    "%pylab inline"
   ]
  },
  {
   "cell_type": "code",
   "execution_count": 3,
   "id": "a737c44a",
   "metadata": {},
   "outputs": [],
   "source": [
    "from dynesty import NestedSampler\n",
    "from uncertainties import ufloat\n",
    "\n",
    "from spright import RMEstimator\n",
    "from spright.io import read_tepcat\n",
    "from spright.model import lnlikelihood_sample\n",
    "\n",
    "%run common.py"
   ]
  },
  {
   "cell_type": "code",
   "execution_count": 5,
   "id": "fd7c9cbe",
   "metadata": {},
   "outputs": [],
   "source": [
    "names, radii, masses = read_tepcat('../../spright/data/TEPCat_FGK_20230522.csv')\n",
    "rme = RMEstimator(nsamples=200, names=names, radii=radii, masses=masses)\n",
    "lpf = rme.lpf\n",
    "rdm = lpf.rdm"
   ]
  },
  {
   "cell_type": "code",
   "execution_count": null,
   "id": "df3fe3e5-c4f6-4a42-ba4c-72fb8b56d4f2",
   "metadata": {},
   "outputs": [],
   "source": [
    "def transform_h0(u):\n",
    "    return transform_base(u, 0.0, 0.001, water_model='z19')\n",
    "\n",
    "def transform_h1(u):\n",
    "    return transform_base(u, 0.15, 0.5, water_model='z19')\n",
    "\n",
    "def transform_h2(u):\n",
    "    return transform_base(u, 0.5, 1.0, water_model='z19')"
   ]
  },
  {
   "cell_type": "code",
   "execution_count": 6,
   "id": "0045a274-f691-4ad9-a5c5-0c6e0749458b",
   "metadata": {},
   "outputs": [],
   "source": [
    "def lnlikelihood(pv):\n",
    "    if is_puffy_population_ok(pv, lpf.rdm):\n",
    "        lnl = lnlikelihood_sample(pv, lpf.density_samples, lpf.radius_samples,\n",
    "                                  rdm._rr0, rdm._rdr, rdm._rx0, rdm._rdx, rdm.drocky, \n",
    "                                  rdm._wr0, rdm._wdr, rdm._wx0, rdm._wdx, rdm.dwater)\n",
    "        return lnl if isfinite(lnl) else -1e6\n",
    "    else:\n",
    "        return -1e6"
   ]
  },
  {
   "cell_type": "code",
   "execution_count": 7,
   "id": "ffa889b9",
   "metadata": {},
   "outputs": [],
   "source": [
    "s0 = NestedSampler(lnlikelihood, transform_h0, 11, nlive=1000)\n",
    "s1 = NestedSampler(lnlikelihood, transform_h1, 11, nlive=1000)\n",
    "s2 = NestedSampler(lnlikelihood, transform_h2, 11, nlive=1000)"
   ]
  },
  {
   "cell_type": "code",
   "execution_count": 8,
   "id": "5ab0753e-67ff-4eb8-8624-6f886ea132d2",
   "metadata": {},
   "outputs": [
    {
     "name": "stderr",
     "output_type": "stream",
     "text": [
      "12302it [03:37, 56.45it/s, +1000 | bound: 59 | nc: 1 | ncall: 308950 | eff(%):  4.320 | loglstar:   -inf < -264.907 <    inf | logz: -277.493 +/-  0.130 | dlogz:  0.001 >  1.009]\n"
     ]
    }
   ],
   "source": [
    "s0.run_nested()"
   ]
  },
  {
   "cell_type": "code",
   "execution_count": 9,
   "id": "8daa2ed8-b172-4c9f-ad6a-ae67ba48e8e4",
   "metadata": {},
   "outputs": [
    {
     "name": "stderr",
     "output_type": "stream",
     "text": [
      "14617it [05:14, 46.45it/s, +1000 | bound: 75 | nc: 1 | ncall: 381645 | eff(%):  4.103 | loglstar:   -inf < -261.224 <    inf | logz: -276.263 +/-  0.160 | dlogz:  0.001 >  1.009]\n"
     ]
    }
   ],
   "source": [
    "s1.run_nested()"
   ]
  },
  {
   "cell_type": "code",
   "execution_count": 10,
   "id": "f36c28a4-cbb9-4a65-ae53-9406c4ffa831",
   "metadata": {},
   "outputs": [
    {
     "name": "stderr",
     "output_type": "stream",
     "text": [
      "14621it [05:21, 45.43it/s, +1000 | bound: 74 | nc: 1 | ncall: 378623 | eff(%):  4.137 | loglstar:   -inf < -261.172 <    inf | logz: -276.179 +/-  0.151 | dlogz:  0.001 >  1.009]\n"
     ]
    }
   ],
   "source": [
    "s2.run_nested()"
   ]
  },
  {
   "cell_type": "code",
   "execution_count": 13,
   "id": "07717187-ecc0-4e25-896e-a63f076bc082",
   "metadata": {},
   "outputs": [],
   "source": [
    "z0 = ufloat(s0.results.logz[-1], s0.results.logzerr[-1])\n",
    "z1 = ufloat(s1.results.logz[-1], s1.results.logzerr[-1])\n",
    "z2 = ufloat(s2.results.logz[-1], s2.results.logzerr[-1])"
   ]
  },
  {
   "cell_type": "code",
   "execution_count": 14,
   "id": "d6ee391e-7446-42b9-b5a9-2cb99b7152bc",
   "metadata": {},
   "outputs": [
    {
     "name": "stdout",
     "output_type": "stream",
     "text": [
      "2.5+/-0.7 2.6+/-0.7 0.2+/-0.7\n"
     ]
    }
   ],
   "source": [
    "print(2*(z1 - z0), 2*(z2 - z0), 2*(z2 - z1))"
   ]
  },
  {
   "cell_type": "markdown",
   "id": "2c5564c1-14c2-4766-a1df-c0912ce671de",
   "metadata": {},
   "source": [
    "---\n",
    "\n",
    "<center>\n",
    "©2023 Hannu Parviainen\n",
    "</center>"
   ]
  }
 ],
 "metadata": {
  "kernelspec": {
   "display_name": "Python 3 (ipykernel)",
   "language": "python",
   "name": "python3"
  },
  "language_info": {
   "codemirror_mode": {
    "name": "ipython",
    "version": 3
   },
   "file_extension": ".py",
   "mimetype": "text/x-python",
   "name": "python",
   "nbconvert_exporter": "python",
   "pygments_lexer": "ipython3",
   "version": "3.11.5"
  }
 },
 "nbformat": 4,
 "nbformat_minor": 5
}

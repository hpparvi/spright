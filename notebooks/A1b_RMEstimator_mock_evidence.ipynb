{
 "cells": [
  {
   "cell_type": "markdown",
   "id": "8f784e04",
   "metadata": {},
   "source": [
    "# Appendix 1b. RMEstimator test with mock data - Bayesian evidence\n",
    "\n",
    "**Author: [Hannu Parviainen](mailto:hpparvi@gmail.com)** </br>\n",
    "**Last edited: 19 September 2023**\n"
   ]
  },
  {
   "cell_type": "code",
   "execution_count": 1,
   "id": "d1f9e4f1-a005-475b-8592-59429586abe8",
   "metadata": {},
   "outputs": [],
   "source": [
    "%matplotlib inline\n",
    "\n",
    "from numba import njit\n",
    "from numpy import array, arange\n",
    "from numpy.random import uniform, seed\n",
    "from tqdm.auto import tqdm\n",
    "\n",
    "from dynesty import NestedSampler\n",
    "from dynesty import plotting as dyplot\n",
    "\n",
    "from spright import RMEstimator\n",
    "from spright.mock import create_mock_sample\n",
    "from spright.model import lnlikelihood_sample, map_pv"
   ]
  },
  {
   "cell_type": "code",
   "execution_count": 2,
   "id": "614cd620-8845-46c3-9529-29aa10ba9092",
   "metadata": {},
   "outputs": [],
   "source": [
    "population_sizes = 50, 75, 100, 150, 200\n",
    "ww_strenghts = 0.0, 0.5, 1.0\n",
    "batches = arange(5)"
   ]
  },
  {
   "cell_type": "code",
   "execution_count": 3,
   "id": "dc52aafe-a84f-407a-b504-fce97f0fa819",
   "metadata": {},
   "outputs": [],
   "source": [
    "pv = array([1.3,  # Rocky transition start \n",
    "             2.4,  # Puffy transition end\n",
    "             0.0,  # WW population strength\n",
    "             0.0,  # WW Population shape\n",
    "             0.2,  # Rocky planet iron ratio\n",
    "             0.5,  # WW water ratio\n",
    "             3.0,  # SN density at r=2\n",
    "            -0.9,  # SN density exponent\n",
    "            -0.4,  # log10 RP density pdf scale\n",
    "            -0.3,  # log10 WW density pdf scale\n",
    "            -0.4   # log10 SN density pdf scale\n",
    "           ])"
   ]
  },
  {
   "cell_type": "code",
   "execution_count": 4,
   "id": "fd3a9661-923d-4084-af3e-6f8d05eedee1",
   "metadata": {},
   "outputs": [],
   "source": [
    "h0 = array([[ 0.8,  1.8], \n",
    "             [ 1.8,  3.5], \n",
    "             [ 0.0,  0.01], \n",
    "             [-1.0,  1.0],\n",
    "             [ 0.0,  0.5],\n",
    "             [ 0.3,  0.7],\n",
    "             [ 1.0,  4.0],\n",
    "             [-2.5,  0.1],\n",
    "             [-1.2,  0.5],\n",
    "             [-1.2,  1.0],\n",
    "             [-1.2,  0.5]])\n",
    "\n",
    "h1 = h0.copy()\n",
    "h1[2] = [0.05, 0.5]\n",
    "\n",
    "h2 = h0.copy()\n",
    "h2[2] = [0.5, 1.0]\n",
    "\n",
    "@njit\n",
    "def tr0(u):\n",
    "    return h0[:,0] + u*(h0[:,1]-h0[:,0])\n",
    "\n",
    "@njit\n",
    "def tr1(u):\n",
    "    return h1[:,0] + u*(h1[:,1]-h1[:,0])\n",
    "\n",
    "@njit\n",
    "def tr2(u):\n",
    "    return h2[:,0] + u*(h2[:,1]-h2[:,0])"
   ]
  },
  {
   "cell_type": "code",
   "execution_count": 5,
   "id": "39361e3d-6fcb-4390-8205-b040aa8b4792",
   "metadata": {},
   "outputs": [
    {
     "data": {
      "application/vnd.jupyter.widget-view+json": {
       "model_id": "3138ab7e6f50482b9b8668508a169b54",
       "version_major": 2,
       "version_minor": 0
      },
      "text/plain": [
       "  0%|          | 0/5 [00:00<?, ?it/s]"
      ]
     },
     "metadata": {},
     "output_type": "display_data"
    },
    {
     "data": {
      "application/vnd.jupyter.widget-view+json": {
       "model_id": "6db86f28989f43adb2a989c11ec8d1a9",
       "version_major": 2,
       "version_minor": 0
      },
      "text/plain": [
       "  0%|          | 0/3 [00:00<?, ?it/s]"
      ]
     },
     "metadata": {},
     "output_type": "display_data"
    },
    {
     "data": {
      "application/vnd.jupyter.widget-view+json": {
       "model_id": "c5825b86d94f4d61b1c00285793abba1",
       "version_major": 2,
       "version_minor": 0
      },
      "text/plain": [
       "  0%|          | 0/5 [00:00<?, ?it/s]"
      ]
     },
     "metadata": {},
     "output_type": "display_data"
    },
    {
     "data": {
      "application/vnd.jupyter.widget-view+json": {
       "model_id": "61bea4a817524119a3fef5716561b10d",
       "version_major": 2,
       "version_minor": 0
      },
      "text/plain": [
       "  0%|          | 0/5 [00:00<?, ?it/s]"
      ]
     },
     "metadata": {},
     "output_type": "display_data"
    },
    {
     "data": {
      "application/vnd.jupyter.widget-view+json": {
       "model_id": "e2a1cbbe3964442b8015b680858077d0",
       "version_major": 2,
       "version_minor": 0
      },
      "text/plain": [
       "  0%|          | 0/5 [00:00<?, ?it/s]"
      ]
     },
     "metadata": {},
     "output_type": "display_data"
    },
    {
     "data": {
      "application/vnd.jupyter.widget-view+json": {
       "model_id": "ec72f136e6804c4eaf9bcd53e8d1daf8",
       "version_major": 2,
       "version_minor": 0
      },
      "text/plain": [
       "  0%|          | 0/3 [00:00<?, ?it/s]"
      ]
     },
     "metadata": {},
     "output_type": "display_data"
    },
    {
     "data": {
      "application/vnd.jupyter.widget-view+json": {
       "model_id": "814e30c674674ccd89d687819f23c7b0",
       "version_major": 2,
       "version_minor": 0
      },
      "text/plain": [
       "  0%|          | 0/5 [00:00<?, ?it/s]"
      ]
     },
     "metadata": {},
     "output_type": "display_data"
    },
    {
     "data": {
      "application/vnd.jupyter.widget-view+json": {
       "model_id": "34bd985528854c51af7b57832e323f73",
       "version_major": 2,
       "version_minor": 0
      },
      "text/plain": [
       "  0%|          | 0/5 [00:00<?, ?it/s]"
      ]
     },
     "metadata": {},
     "output_type": "display_data"
    },
    {
     "data": {
      "application/vnd.jupyter.widget-view+json": {
       "model_id": "7f43238159694fd18b991c4191e25663",
       "version_major": 2,
       "version_minor": 0
      },
      "text/plain": [
       "  0%|          | 0/5 [00:00<?, ?it/s]"
      ]
     },
     "metadata": {},
     "output_type": "display_data"
    },
    {
     "data": {
      "application/vnd.jupyter.widget-view+json": {
       "model_id": "5a4a4c10523f4ae18e57be568c7c2c31",
       "version_major": 2,
       "version_minor": 0
      },
      "text/plain": [
       "  0%|          | 0/3 [00:00<?, ?it/s]"
      ]
     },
     "metadata": {},
     "output_type": "display_data"
    },
    {
     "data": {
      "application/vnd.jupyter.widget-view+json": {
       "model_id": "f350b060e11945eab842a9182fa70f0e",
       "version_major": 2,
       "version_minor": 0
      },
      "text/plain": [
       "  0%|          | 0/5 [00:00<?, ?it/s]"
      ]
     },
     "metadata": {},
     "output_type": "display_data"
    },
    {
     "data": {
      "application/vnd.jupyter.widget-view+json": {
       "model_id": "47278e6e7e9b4f5884bd5c53909bade3",
       "version_major": 2,
       "version_minor": 0
      },
      "text/plain": [
       "  0%|          | 0/5 [00:00<?, ?it/s]"
      ]
     },
     "metadata": {},
     "output_type": "display_data"
    },
    {
     "data": {
      "application/vnd.jupyter.widget-view+json": {
       "model_id": "a9a9241f2d3a4534aa6fca419cbddb00",
       "version_major": 2,
       "version_minor": 0
      },
      "text/plain": [
       "  0%|          | 0/5 [00:00<?, ?it/s]"
      ]
     },
     "metadata": {},
     "output_type": "display_data"
    },
    {
     "data": {
      "application/vnd.jupyter.widget-view+json": {
       "model_id": "5f4171d305c44b83bfac8293be315aaf",
       "version_major": 2,
       "version_minor": 0
      },
      "text/plain": [
       "  0%|          | 0/3 [00:00<?, ?it/s]"
      ]
     },
     "metadata": {},
     "output_type": "display_data"
    },
    {
     "data": {
      "application/vnd.jupyter.widget-view+json": {
       "model_id": "0d0eaa714f06408fa6b9382dbaa8d159",
       "version_major": 2,
       "version_minor": 0
      },
      "text/plain": [
       "  0%|          | 0/5 [00:00<?, ?it/s]"
      ]
     },
     "metadata": {},
     "output_type": "display_data"
    },
    {
     "data": {
      "application/vnd.jupyter.widget-view+json": {
       "model_id": "df93e15f9a0241de91c22b4c11d88b6d",
       "version_major": 2,
       "version_minor": 0
      },
      "text/plain": [
       "  0%|          | 0/5 [00:00<?, ?it/s]"
      ]
     },
     "metadata": {},
     "output_type": "display_data"
    },
    {
     "data": {
      "application/vnd.jupyter.widget-view+json": {
       "model_id": "4ecaf75b07b4431b8c8a711231efa437",
       "version_major": 2,
       "version_minor": 0
      },
      "text/plain": [
       "  0%|          | 0/5 [00:00<?, ?it/s]"
      ]
     },
     "metadata": {},
     "output_type": "display_data"
    },
    {
     "data": {
      "application/vnd.jupyter.widget-view+json": {
       "model_id": "95cea5e6aa644512a7c4047070eb67d4",
       "version_major": 2,
       "version_minor": 0
      },
      "text/plain": [
       "  0%|          | 0/3 [00:00<?, ?it/s]"
      ]
     },
     "metadata": {},
     "output_type": "display_data"
    },
    {
     "data": {
      "application/vnd.jupyter.widget-view+json": {
       "model_id": "2cbdb06421fa4b7abc773e70c8a3a92f",
       "version_major": 2,
       "version_minor": 0
      },
      "text/plain": [
       "  0%|          | 0/5 [00:00<?, ?it/s]"
      ]
     },
     "metadata": {},
     "output_type": "display_data"
    },
    {
     "data": {
      "application/vnd.jupyter.widget-view+json": {
       "model_id": "ce2081be86ac42eb8ba46f0a6f809eee",
       "version_major": 2,
       "version_minor": 0
      },
      "text/plain": [
       "  0%|          | 0/5 [00:00<?, ?it/s]"
      ]
     },
     "metadata": {},
     "output_type": "display_data"
    },
    {
     "data": {
      "application/vnd.jupyter.widget-view+json": {
       "model_id": "c828b7afa6754ddb94fb3c36bbdd3017",
       "version_major": 2,
       "version_minor": 0
      },
      "text/plain": [
       "  0%|          | 0/5 [00:00<?, ?it/s]"
      ]
     },
     "metadata": {},
     "output_type": "display_data"
    }
   ],
   "source": [
    "logz = {}\n",
    "logze = {}\n",
    "\n",
    "for psize in tqdm(population_sizes):\n",
    "    for wws in tqdm(ww_strenghts):\n",
    "        pv[2] = wws\n",
    "        for ibatch in tqdm(batches):\n",
    "            seed(ibatch)\n",
    "            names = array(psize*[''])\n",
    "            radius = uniform(0.5, 5.5, psize)\n",
    "            mass = create_mock_sample(radius, pv, 'mass')\n",
    "            radius_e = radius * uniform(0.01, 0.08, size=psize)\n",
    "            mass_e = mass * uniform(0.03, 0.24, size=psize)\n",
    "    \n",
    "            rme = RMEstimator(nsamples=100, names=names, radii=(radius, radius_e), masses=(mass, mass_e))\n",
    "            lpf = rme.lpf\n",
    "            rdm = lpf.rdm\n",
    "            \n",
    "            def lnlikelihood(pv):\n",
    "                return lnlikelihood_sample(pv, lpf.density_samples, lpf.radius_samples,\n",
    "                                       rdm._r0, rdm._dr, rdm.drocky, rdm.dwater)\n",
    "                \n",
    "            s0 = NestedSampler(lnlikelihood, tr0, 11, nlive=1000)\n",
    "            s1 = NestedSampler(lnlikelihood, tr1, 11, nlive=1000)\n",
    "            s2 = NestedSampler(lnlikelihood, tr2, 11, nlive=1000)\n",
    "\n",
    "            s0.run_nested(print_progress=False)\n",
    "            s1.run_nested(print_progress=False)\n",
    "            s2.run_nested(print_progress=False)\n",
    "\n",
    "            logz[psize, int(100*wws), ibatch, 'H0'] = s0.results.logz[-1]\n",
    "            logz[psize, int(100*wws), ibatch, 'H1'] = s1.results.logz[-1]\n",
    "            logz[psize, int(100*wws), ibatch, 'H2'] = s2.results.logz[-1]\n",
    "\n",
    "            logze[psize, int(100*wws), ibatch, 'H0'] = s0.results.logzerr[-1]\n",
    "            logze[psize, int(100*wws), ibatch, 'H1'] = s1.results.logzerr[-1]\n",
    "            logze[psize, int(100*wws), ibatch, 'H2'] = s2.results.logzerr[-1]"
   ]
  },
  {
   "cell_type": "code",
   "execution_count": 26,
   "id": "86cf39a4-95a0-4061-a949-4d876e5eadfe",
   "metadata": {},
   "outputs": [
    {
     "data": {
      "text/plain": [
       "{(50, 0, 0, 'H0'): -51.740220620235185,\n",
       " (50, 0, 0, 'H1'): -52.6721081967136,\n",
       " (50, 0, 0, 'H2'): -54.45469372849778,\n",
       " (50, 0, 1, 'H0'): -59.41047254354563,\n",
       " (50, 0, 1, 'H1'): -59.32429271211719,\n",
       " (50, 0, 1, 'H2'): -59.9355578156648,\n",
       " (50, 0, 2, 'H0'): -53.97914238911576,\n",
       " (50, 0, 2, 'H1'): -55.69035795392055,\n",
       " (50, 0, 2, 'H2'): -59.39778240866274,\n",
       " (50, 0, 3, 'H0'): -54.74441091652819,\n",
       " (50, 0, 3, 'H1'): -56.8372452243977,\n",
       " (50, 0, 3, 'H2'): -61.474483431598635,\n",
       " (50, 0, 4, 'H0'): -45.27734778950429,\n",
       " (50, 0, 4, 'H1'): -45.78233422363854,\n",
       " (50, 0, 4, 'H2'): -47.22356117106534,\n",
       " (50, 50, 0, 'H0'): -50.0476827891481,\n",
       " (50, 50, 0, 'H1'): -49.64267287910525,\n",
       " (50, 50, 0, 'H2'): -50.095759098203615,\n",
       " (50, 50, 1, 'H0'): -57.270390149378564,\n",
       " (50, 50, 1, 'H1'): -56.38849266220588,\n",
       " (50, 50, 1, 'H2'): -56.30123820979275,\n",
       " (50, 50, 2, 'H0'): -57.923458364865446,\n",
       " (50, 50, 2, 'H1'): -56.73640215434681,\n",
       " (50, 50, 2, 'H2'): -57.60463512737293,\n",
       " (50, 50, 3, 'H0'): -47.99073761695592,\n",
       " (50, 50, 3, 'H1'): -46.26980011185035,\n",
       " (50, 50, 3, 'H2'): -47.4446063729738,\n",
       " (50, 50, 4, 'H0'): -47.22418092851245,\n",
       " (50, 50, 4, 'H1'): -46.688693982248765,\n",
       " (50, 50, 4, 'H2'): -47.13889328947918,\n",
       " (50, 100, 0, 'H0'): -51.06199438069633,\n",
       " (50, 100, 0, 'H1'): -49.93214095081276,\n",
       " (50, 100, 0, 'H2'): -48.917894944171145,\n",
       " (50, 100, 1, 'H0'): -59.78959293314251,\n",
       " (50, 100, 1, 'H1'): -57.79838234714852,\n",
       " (50, 100, 1, 'H2'): -56.7073063723759,\n",
       " (50, 100, 2, 'H0'): -62.521337901866396,\n",
       " (50, 100, 2, 'H1'): -55.700722356731276,\n",
       " (50, 100, 2, 'H2'): -52.69599784413705,\n",
       " (50, 100, 3, 'H0'): -55.09825744733929,\n",
       " (50, 100, 3, 'H1'): -47.3817717210613,\n",
       " (50, 100, 3, 'H2'): -45.67415869034616,\n",
       " (50, 100, 4, 'H0'): -52.91578089036138,\n",
       " (50, 100, 4, 'H1'): -47.96131369194957,\n",
       " (50, 100, 4, 'H2'): -45.74218789041419,\n",
       " (75, 0, 0, 'H0'): -70.78109287777951,\n",
       " (75, 0, 0, 'H1'): -71.22621577183375,\n",
       " (75, 0, 0, 'H2'): -72.54709274931508,\n",
       " (75, 0, 1, 'H0'): -95.0422741535128,\n",
       " (75, 0, 1, 'H1'): -96.04988769951188,\n",
       " (75, 0, 1, 'H2'): -99.21730907684115,\n",
       " (75, 0, 2, 'H0'): -74.38764625970161,\n",
       " (75, 0, 2, 'H1'): -76.5638434974783,\n",
       " (75, 0, 2, 'H2'): -82.16530257756338,\n",
       " (75, 0, 3, 'H0'): -83.96037959293355,\n",
       " (75, 0, 3, 'H1'): -86.43708611399148,\n",
       " (75, 0, 3, 'H2'): -95.49531387855484,\n",
       " (75, 0, 4, 'H0'): -79.95129356257831,\n",
       " (75, 0, 4, 'H1'): -80.4123309452613,\n",
       " (75, 0, 4, 'H2'): -82.24544441415792,\n",
       " (75, 50, 0, 'H0'): -72.54652451053889,\n",
       " (75, 50, 0, 'H1'): -72.7964227700433,\n",
       " (75, 50, 0, 'H2'): -72.94721998616777,\n",
       " (75, 50, 1, 'H0'): -92.94118867669718,\n",
       " (75, 50, 1, 'H1'): -92.83016113545402,\n",
       " (75, 50, 1, 'H2'): -92.43670010625041,\n",
       " (75, 50, 2, 'H0'): -82.05979997759097,\n",
       " (75, 50, 2, 'H1'): -74.81252347740872,\n",
       " (75, 50, 2, 'H2'): -74.49949142731553}"
      ]
     },
     "execution_count": 26,
     "metadata": {},
     "output_type": "execute_result"
    }
   ],
   "source": [
    "logz"
   ]
  },
  {
   "cell_type": "markdown",
   "id": "b7a1fb5e",
   "metadata": {},
   "source": [
    "---\n",
    "\n",
    "<center>\n",
    "©2023 Hannu Parviainen\n",
    "</center>"
   ]
  }
 ],
 "metadata": {
  "kernelspec": {
   "display_name": "Python 3 (ipykernel)",
   "language": "python",
   "name": "python3"
  },
  "language_info": {
   "codemirror_mode": {
    "name": "ipython",
    "version": 3
   },
   "file_extension": ".py",
   "mimetype": "text/x-python",
   "name": "python",
   "nbconvert_exporter": "python",
   "pygments_lexer": "ipython3",
   "version": "3.11.5"
  }
 },
 "nbformat": 4,
 "nbformat_minor": 5
}

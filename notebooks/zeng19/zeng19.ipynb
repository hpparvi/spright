{
 "cells": [
  {
   "cell_type": "markdown",
   "id": "c13c943a-fd4a-4bc7-944c-37266b540799",
   "metadata": {},
   "source": [
    "#  Rocky and water-rich planet bulk density models by Zeng (2019)\n",
    "Create the fits table files for the Zeng2019 rocky and water-rich planet bulk density models"
   ]
  },
  {
   "cell_type": "code",
   "execution_count": 1,
   "id": "c6bd2c1f-fa3e-49f6-87be-8f8725730fe0",
   "metadata": {},
   "outputs": [
    {
     "name": "stdout",
     "output_type": "stream",
     "text": [
      "%pylab is deprecated, use %matplotlib inline and import the required libraries.\n",
      "Populating the interactive namespace from numpy and matplotlib\n"
     ]
    }
   ],
   "source": [
    "%pylab inline"
   ]
  },
  {
   "cell_type": "code",
   "execution_count": 2,
   "id": "ae3e2b2d-3ecf-40be-994e-ee955644846b",
   "metadata": {},
   "outputs": [],
   "source": [
    "import astropy.units as u\n",
    "import astropy.io.fits as pf\n",
    "import pandas as pd\n",
    "\n",
    "from scipy.interpolate import interp1d\n",
    "\n",
    "mearth = (5.9742e24 * u.kg).to(u.g).value\n",
    "rearth = (6.371e6 * u.m).to(u.cm).value\n",
    "\n",
    "nr = 200\n",
    "\n",
    "def rho(r, m):\n",
    "    return m/(4/3*pi*r**3)"
   ]
  },
  {
   "cell_type": "code",
   "execution_count": 3,
   "id": "b5630a1c-d27f-4c92-a008-1784977c4df7",
   "metadata": {},
   "outputs": [],
   "source": [
    "mr = pd.read_csv('mrtable3.txt', delim_whitespace=True, header=0, skiprows=[1], index_col=0)\n",
    "mr.index.name = 'mass'\n",
    "mr.drop(['cold_h2/he', 'max_coll_strip'], axis=1, inplace=True)\n",
    "md = pd.DataFrame(rho(mr.values * rearth, mr.index.values[:, newaxis] * mearth))\n",
    "md.columns = mr.columns\n",
    "md.set_index(mr.index, inplace=True)\n",
    "\n",
    "models = mr.columns.values.copy()\n",
    "nm = models.size\n",
    "\n",
    "radius = linspace(0.5, 3.5, nr)\n",
    "r0, dr = radius[0], radius[1] - radius[0]\n",
    "xr0, dxr = 0.0, 0.05\n",
    "xw0, dxw = 0.05, 0.05\n",
    "\n",
    "density = zeros((nm, nr))\n",
    "for i in range(nm):\n",
    "    ip = interp1d(mr.iloc[:, i].values, md.iloc[:, i].values, 1, bounds_error=False)\n",
    "    density[i] = ip(radius)\n",
    "drocky = density[:21][::-1]\n",
    "dwater = density[21:]"
   ]
  },
  {
   "cell_type": "code",
   "execution_count": 4,
   "id": "3d8200a6-16c3-4428-9fd4-d77e30498dd4",
   "metadata": {},
   "outputs": [],
   "source": [
    "hdu = pf.PrimaryHDU(drocky)\n",
    "hdu.header['CTYPE1'] = 'radius'\n",
    "hdu.header['CRPIX1'] = 1\n",
    "hdu.header['CRVAL1'] = r0\n",
    "hdu.header['CDELT1'] = dr\n",
    "hdu.header['CTYPE2'] = 'xrock'\n",
    "hdu.header['CRPIX2'] = 1\n",
    "hdu.header['CRVAL2'] = xr0\n",
    "hdu.header['CDELT2'] = dxr\n",
    "hdu.writeto('rocky_zeng19.fits', overwrite=True)"
   ]
  },
  {
   "cell_type": "code",
   "execution_count": 5,
   "id": "1e88eb3a-387a-40cb-98e7-9c6dbf7fb28d",
   "metadata": {},
   "outputs": [],
   "source": [
    "hdu = pf.PrimaryHDU(dwater)\n",
    "hdu.header['CTYPE1'] = 'radius'\n",
    "hdu.header['CRPIX1'] = 1\n",
    "hdu.header['CRVAL1'] = r0\n",
    "hdu.header['CDELT1'] = dr\n",
    "hdu.header['CTYPE2'] = 'xwater'\n",
    "hdu.header['CRPIX2'] = 1\n",
    "hdu.header['CRVAL2'] = xw0\n",
    "hdu.header['CDELT2'] = dxw\n",
    "hdu.writeto('water_zeng19.fits', overwrite=True)"
   ]
  },
  {
   "cell_type": "code",
   "execution_count": null,
   "id": "08689bae-63e7-4ee4-8844-7bbb018664e1",
   "metadata": {},
   "outputs": [],
   "source": []
  }
 ],
 "metadata": {
  "kernelspec": {
   "display_name": "Python 3 (ipykernel)",
   "language": "python",
   "name": "python3"
  },
  "language_info": {
   "codemirror_mode": {
    "name": "ipython",
    "version": 3
   },
   "file_extension": ".py",
   "mimetype": "text/x-python",
   "name": "python",
   "nbconvert_exporter": "python",
   "pygments_lexer": "ipython3",
   "version": "3.11.5"
  }
 },
 "nbformat": 4,
 "nbformat_minor": 5
}
